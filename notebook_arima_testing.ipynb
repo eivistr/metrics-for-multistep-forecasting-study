{
 "cells": [
  {
   "cell_type": "code",
   "execution_count": 1,
   "metadata": {},
   "outputs": [],
   "source": [
    "%config IPCompleter.greedy=True\n",
    "%matplotlib inline\n",
    "\n",
    "import sys\n",
    "sys.path.append('..')"
   ]
  },
  {
   "cell_type": "code",
   "execution_count": 2,
   "metadata": {},
   "outputs": [],
   "source": [
    "from matplotlib import pyplot as plt\n",
    "import pandas as pd\n",
    "from tqdm import tqdm\n",
    "\n",
    "import numpy as np\n",
    "import random\n",
    "import torch\n",
    "\n",
    "import pmdarima as pm\n",
    "from pmdarima import StepwiseContext\n",
    "from pmdarima.model_selection import train_test_split\n",
    "\n",
    "np.random.seed(0)\n",
    "random.seed(0)\n",
    "\n",
    "from metrics import calc_tdi_tdm, squared_error, absolute_error\n",
    "from utilities import Evaluation\n",
    "from datasets import get_dataset"
   ]
  },
  {
   "cell_type": "code",
   "execution_count": 3,
   "metadata": {},
   "outputs": [],
   "source": [
    "def plot_result(train, test, forecast, model):\n",
    "    x = np.arange(train.shape[0] + test.shape[0])\n",
    "    l = len(train)\n",
    "    \n",
    "    fig, axs = plt.subplots(nrows=1, ncols=3, figsize=(20, 2.5))\n",
    "    axs[0].plot(x[:l], train, c='blue')\n",
    "    axs[0].plot(x[l:], test, c='red')\n",
    "    axs[0].plot(x[l:], forecast, c='green')\n",
    "    axs[0].set_title(f\"Series {i}. Best fit: SARIMA{model.to_dict()['order']}{model.to_dict()['seasonal_order']}\")\n",
    "    \n",
    "    axs[1].plot(x[l:], squared_error(test, forecast))\n",
    "    axs[1].set_title(f\"Squared errors\")\n",
    "    \n",
    "    axs[2].plot(x[l:], absolute_error(test, forecast))\n",
    "    axs[2].set_title(f\"Absolute errors\")\n",
    "    plt.tight_layout()\n",
    "    plt.show()"
   ]
  },
  {
   "cell_type": "markdown",
   "metadata": {},
   "source": [
    "# TESTING"
   ]
  },
  {
   "cell_type": "code",
   "execution_count": 4,
   "metadata": {},
   "outputs": [],
   "source": [
    "archive=''\n",
    "ds_name='Traffic'\n",
    "in_size=24*3\n",
    "out_size=24*3\n",
    "arima_window=200\n",
    "seasonal=True\n",
    "m=24\n",
    "test_size=500\n",
    "\n",
    "batch_size = 10\n",
    "results = []\n",
    "\n",
    "train, test = get_dataset(archive, ds_name, in_size, out_size, test_size)\n",
    "train_dl = torch.utils.data.DataLoader(train, batch_size=batch_size, shuffle=True, drop_last=True)\n",
    "test_dl = torch.utils.data.DataLoader(test, batch_size=batch_size, shuffle=False, drop_last=True)"
   ]
  },
  {
   "cell_type": "code",
   "execution_count": 5,
   "metadata": {},
   "outputs": [
    {
     "name": "stdout",
     "output_type": "stream",
     "text": [
      "(200,)\n",
      "(500,)\n"
     ]
    }
   ],
   "source": [
    "train = train.series.squeeze().numpy()\n",
    "test = test.series.squeeze().numpy()\n",
    "\n",
    "print(train[-arima_window:].shape)\n",
    "print(test.shape)"
   ]
  },
  {
   "cell_type": "code",
   "execution_count": 15,
   "metadata": {},
   "outputs": [],
   "source": [
    "drop_last = len(test) % 11"
   ]
  },
  {
   "cell_type": "code",
   "execution_count": 21,
   "metadata": {},
   "outputs": [
    {
     "data": {
      "text/plain": [
       "1"
      ]
     },
     "execution_count": 21,
     "metadata": {},
     "output_type": "execute_result"
    }
   ],
   "source": [
    "len(test[:1])"
   ]
  },
  {
   "cell_type": "code",
   "execution_count": 8,
   "metadata": {},
   "outputs": [
    {
     "data": {
      "text/plain": [
       "0"
      ]
     },
     "execution_count": 8,
     "metadata": {},
     "output_type": "execute_result"
    }
   ],
   "source": [
    "len(test[:-drop_last])"
   ]
  },
  {
   "cell_type": "code",
   "execution_count": 20,
   "metadata": {},
   "outputs": [],
   "source": [
    "MAX_ITER = 50\n",
    "\n",
    "if seasonal:\n",
    "    model = pm.auto_arima(train[-arima_window:],\n",
    "                          start_p=1, start_q=1, max_p=5, max_q=5,\n",
    "                          seasonal=True, m=m, max_P=5, max_Q=5,\n",
    "                          trace=False,\n",
    "                          suppress_warnings=True,\n",
    "                          error_action='ignore',\n",
    "                          stepwise=True,\n",
    "                          maxiter=MAX_ITER)\n",
    "\n",
    "else:\n",
    "    model = pm.auto_arima(train[-arima_window:],\n",
    "                          start_p=1, start_q=1, max_p=5, max_q=5,\n",
    "                          seasonal=False,\n",
    "                          trace=False,\n",
    "                          suppress_warnings=True,\n",
    "                          error_action='ignore',\n",
    "                          stepwise=True,\n",
    "                          maxiter=MAX_ITER)"
   ]
  },
  {
   "cell_type": "code",
   "execution_count": 21,
   "metadata": {},
   "outputs": [],
   "source": [
    "# Get multi-step forecasts\n",
    "x_test, y_test, yhat_test = [], [], []\n",
    "x_history = []\n",
    "\n",
    "# Update model on first input size sample\n",
    "x = test[0:in_size]\n",
    "y = test[in_size:in_size+out_size]"
   ]
  },
  {
   "cell_type": "code",
   "execution_count": 22,
   "metadata": {},
   "outputs": [],
   "source": [
    "model.update(x)\n",
    "yhat = model.predict(n_periods=out_size)  # Predict n steps into the future\n",
    "\n",
    "x_test.append(x)\n",
    "y_test.append(y)\n",
    "yhat_test.append(yhat)\n",
    "\n",
    "x_history.extend(x)"
   ]
  },
  {
   "cell_type": "code",
   "execution_count": 23,
   "metadata": {},
   "outputs": [
    {
     "name": "stderr",
     "output_type": "stream",
     "text": [
      "Generating ARIMA k-step forecasts: 100%|█████████████████████████████████████████████████████████████████████████████████████████████████████████████████████████████████████████████████████████████| 31/31 [00:08<00:00,  3.47step/s]\n"
     ]
    }
   ],
   "source": [
    "# Iterate from the first window, updating with the next step\n",
    "for i in tqdm(range(1, len(test) - in_size - out_size), unit=\"step\", desc=f\"Generating ARIMA k-step forecasts\"):\n",
    "    x = test[i:i+in_size]\n",
    "    y = test[i+in_size:i+in_size+out_size]\n",
    "\n",
    "    model.update(x[-1])  # Update with LAST value as stepsize is 1 and the model retains previous values\n",
    "    yhat = model.predict(n_periods=out_size)\n",
    "\n",
    "    x_test.append(x)\n",
    "    y_test.append(y)\n",
    "    yhat_test.append(yhat)\n",
    "    x_history.append(x[-1])"
   ]
  },
  {
   "cell_type": "code",
   "execution_count": 24,
   "metadata": {},
   "outputs": [],
   "source": [
    "x_test, y_test, yhat_test = np.array(x_test), np.array(y_test), np.array(yhat_test)"
   ]
  },
  {
   "cell_type": "code",
   "execution_count": 25,
   "metadata": {},
   "outputs": [
    {
     "data": {
      "text/plain": [
       "(32, 72)"
      ]
     },
     "execution_count": 25,
     "metadata": {},
     "output_type": "execute_result"
    }
   ],
   "source": [
    "x_test.shape"
   ]
  },
  {
   "cell_type": "code",
   "execution_count": 18,
   "metadata": {},
   "outputs": [],
   "source": [
    "results.append(Evaluation(x_test, y_test, yhat_test, ds_name, \"SARIMA\"))"
   ]
  },
  {
   "cell_type": "code",
   "execution_count": null,
   "metadata": {},
   "outputs": [],
   "source": [
    "if True:\n",
    "    results[-1].plot_forecasts(n=31, shuffle=False)"
   ]
  }
 ],
 "metadata": {
  "kernelspec": {
   "display_name": "Python 3",
   "language": "python",
   "name": "python3"
  },
  "language_info": {
   "codemirror_mode": {
    "name": "ipython",
    "version": 3
   },
   "file_extension": ".py",
   "mimetype": "text/x-python",
   "name": "python",
   "nbconvert_exporter": "python",
   "pygments_lexer": "ipython3",
   "version": "3.8.5"
  }
 },
 "nbformat": 4,
 "nbformat_minor": 4
}
