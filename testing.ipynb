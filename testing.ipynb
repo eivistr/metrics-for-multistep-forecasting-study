{
 "cells": [
  {
   "cell_type": "code",
   "execution_count": 1,
   "id": "f1d9d8f8-48d8-46c5-9382-569c2e7e4ad7",
   "metadata": {},
   "outputs": [],
   "source": [
    "%config IPCompleter.greedy=True\n",
    "%matplotlib inline\n",
    "\n",
    "import sys\n",
    "sys.path.append('..')"
   ]
  },
  {
   "cell_type": "code",
   "execution_count": 2,
   "id": "0556c58c-d2a4-49c5-849f-2ba078fd30f0",
   "metadata": {},
   "outputs": [],
   "source": [
    "from matplotlib import pyplot as plt\n",
    "import numpy as np\n",
    "import pandas as pd\n",
    "import pickle\n",
    "import random\n",
    "from tqdm import tqdm\n",
    "\n",
    "import torch\n",
    "from torch import nn\n",
    "from torch.utils.data import DataLoader, Dataset\n",
    "\n",
    "from metrics import calc_tdi_tdm, squared_error, absolute_error\n",
    "from utilities import plot_forecasts, Evaluation\n",
    "from datasets import Traffic, UCR18, ICMC, split_dataset\n",
    "from models.tcn import TCN, train_tcn, get_forecasts\n",
    "\n",
    "torch.manual_seed(0)\n",
    "random.seed(0)\n",
    "np.random.seed(0)\n",
    "\n",
    "device = torch.device(\"cuda\" if torch.cuda.is_available() else \"cpu\")"
   ]
  },
  {
   "cell_type": "code",
   "execution_count": 9,
   "id": "75c6f0be-e777-4b47-bb78-af2174fe2184",
   "metadata": {
    "tags": []
   },
   "outputs": [],
   "source": [
    "input_size = 84\n",
    "output_size = 56\n",
    "\n",
    "data = ICMC(\"./data/ICMC-USP/atmosfera_t.data\", input_size=24, output_size=24)\n",
    "\n",
    "train, test = split_dataset(data, 0.2)\n"
   ]
  },
  {
   "cell_type": "code",
   "execution_count": null,
   "id": "f5696cdc-97c4-42ea-b210-5548629ce5b6",
   "metadata": {},
   "outputs": [],
   "source": [
    "input_size = 84\n",
    "output_size = 56\n",
    "\n",
    "channel_sizes = [128] * 3\n",
    "kernel_size = 5\n",
    "dropout = 0.25\n",
    "lr = 0.001\n",
    "batch_size = 16\n",
    "epochs = 30\n",
    "\n",
    "# Load data\n",
    "train = ECG5000(\"../data/ECG5000/ECG5000_TRAIN.tsv\", input_size, output_size)\n",
    "test = ECG5000(\"../data/ECG5000/ECG5000_TEST.tsv\", input_size, output_size)\n",
    "train_loader = torch.utils.data.DataLoader(train, batch_size=batch_size, shuffle=True, drop_last=True)\n",
    "test_loader = torch.utils.data.DataLoader(test, batch_size=batch_size, shuffle=False, drop_last=True)"
   ]
  }
 ],
 "metadata": {
  "kernelspec": {
   "display_name": "Python 3",
   "language": "python",
   "name": "python3"
  },
  "language_info": {
   "codemirror_mode": {
    "name": "ipython",
    "version": 3
   },
   "file_extension": ".py",
   "mimetype": "text/x-python",
   "name": "python",
   "nbconvert_exporter": "python",
   "pygments_lexer": "ipython3",
   "version": "3.8.5"
  }
 },
 "nbformat": 4,
 "nbformat_minor": 5
}
