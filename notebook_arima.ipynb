{
 "cells": [
  {
   "cell_type": "code",
   "execution_count": 2,
   "metadata": {},
   "outputs": [],
   "source": [
    "%config IPCompleter.greedy=True\n",
    "\n",
    "from matplotlib import pyplot as plt\n",
    "import numpy as np\n",
    "import pandas as pd\n",
    "import pickle\n",
    "import random\n",
    "\n",
    "import torch\n",
    "from torch.utils.data import DataLoader\n",
    "\n",
    "from evaluation import Result, Evaluation\n",
    "from datasets import get_dataset\n",
    "from models.sarima import run_arima_model"
   ]
  },
  {
   "cell_type": "code",
   "execution_count": null,
   "metadata": {},
   "outputs": [],
   "source": [
    "in_size = 24\n",
    "out_size = 24\n",
    "test_size = 500\n",
    "\n",
    "arima_window = 480\n",
    "arima_m = 24\n",
    "\n",
    "batch_size = 32\n",
    "\n",
    "train, test = get_dataset('mvdata', 'traffic', in_size, out_size, test_size)\n",
    "\n",
    "train_raw = train.series.squeeze().numpy()\n",
    "test_raw = test.series.squeeze().numpy()\n",
    "drop_last = len(test) % batch_size  # Shorten test to a multiple of batch_size (eqv. to drop_last = True)\n",
    "if drop_last != 0:\n",
    "    test_raw = test.series.squeeze().numpy()[:-drop_last]\n",
    "\n",
    "x_test, y_test, yhat_test = run_arima_model(train_raw,\n",
    "                                            test_raw,  # drop last\n",
    "                                            in_size, out_size, arima_window, arima_m)\n",
    "\n",
    "result =(Result(x_test, y_test, yhat_test, ds_name, \"ARIMA\")"
   ]
  },
  {
   "cell_type": "code",
   "execution_count": null,
   "metadata": {},
   "outputs": [],
   "source": [
    "result.plot_forecasts()"
   ]
  }
 ],
 "metadata": {
  "kernelspec": {
   "display_name": "Python 3",
   "language": "python",
   "name": "python3"
  },
  "language_info": {
   "codemirror_mode": {
    "name": "ipython",
    "version": 3
   },
   "file_extension": ".py",
   "mimetype": "text/x-python",
   "name": "python",
   "nbconvert_exporter": "python",
   "pygments_lexer": "ipython3",
   "version": "3.8.5"
  }
 },
 "nbformat": 4,
 "nbformat_minor": 4
}
